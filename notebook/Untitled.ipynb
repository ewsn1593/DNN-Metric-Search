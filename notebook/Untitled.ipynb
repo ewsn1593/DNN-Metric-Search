{
 "cells": [
  {
   "cell_type": "code",
   "execution_count": 7,
   "id": "f44bb87e-5539-452b-a09d-3b4629c6424a",
   "metadata": {},
   "outputs": [],
   "source": [
    "import torch\n",
    "import torch.nn as nn"
   ]
  },
  {
   "cell_type": "code",
   "execution_count": 36,
   "id": "852a783d-82ba-461e-9842-4e8e96b589a0",
   "metadata": {},
   "outputs": [],
   "source": [
    "import torchvision.models as models\n",
    "from ptflops import get_model_complexity_info"
   ]
  },
  {
   "cell_type": "code",
   "execution_count": 48,
   "id": "787bba5b-157c-4d0e-9110-1f65cd5605ff",
   "metadata": {},
   "outputs": [],
   "source": [
    "EX_PROP1 = [\n",
    "    # number of parameters\n",
    "    lambda model: sum(x.numel() for x in model.parameters() if x.requires_grad),\n",
    "    \n",
    "    # FLOPS\n",
    "    lambda model: 2*get_model_complexity_info(model, (3,32,32), as_strings=False)[0],\n",
    "    \n",
    "           ]"
   ]
  },
  {
   "cell_type": "code",
   "execution_count": 30,
   "id": "86fb0dea-cba1-4c79-99ec-3107dde09922",
   "metadata": {},
   "outputs": [],
   "source": [
    "Unary = [\n",
    "    lambda x : x+100,\n",
    "    lambda x : x*100,\n",
    "    lambda x : x/100,\n",
    "    lambda x : x - 100,\n",
    "\n",
    "]\n",
    "Binary = [\n",
    "    lambda x, y: x + y,\n",
    "    lambda x, y: x * y,\n",
    "    lambda x, y: x - y,\n",
    "    lambda x, y: x / y,\n",
    "]"
   ]
  },
  {
   "cell_type": "code",
   "execution_count": 24,
   "id": "c27830ef-13fe-4c77-a1e7-6ae3a71ba01c",
   "metadata": {},
   "outputs": [
    {
     "data": {
      "text/plain": [
       "6580"
      ]
     },
     "execution_count": 24,
     "metadata": {},
     "output_type": "execute_result"
    }
   ],
   "source": [
    "EX_PROP1[0](lstm)"
   ]
  },
  {
   "cell_type": "code",
   "execution_count": 8,
   "id": "c213a982-8ca7-4dde-8f39-710874f2459b",
   "metadata": {},
   "outputs": [],
   "source": [
    "lstm = nn.LSTMCell(input_size=10, hidden_size=35)\n",
    "x = torch.rand((1,10))"
   ]
  },
  {
   "cell_type": "code",
   "execution_count": null,
   "id": "3df03307-9aa5-458d-aa8a-412939e200da",
   "metadata": {},
   "outputs": [],
   "source": [
    "class RNN_Controller(nn.Module):\n",
    "    def __init__(self, hidden_dim=35, search_size=9):\n",
    "        super(RNN_Contorller, self).__init__()\n",
    "        self.hidden_dim = hidden_dim\n",
    "        self.search_size = search_size\n",
    "        self.generate_controller()\n",
    "        \n",
    "        \n",
    "        \n",
    "        \n",
    "    def generate_controller(self):\n",
    "        \n",
    "        self.LSTM_1 = nn.LSTMCell(input_size= , hidden_size=self.hidden_dim)\n",
    "        self.LSTM_2 = nn.LSTMCell(input_size= , hidden_size=self.hidden_dim)\n",
    "        \n",
    "        self.LSTM_3 = nn.LSTMCell(input_size= , hidden_size=self.hidden_dim)\n",
    "        self.LSTM_4 = nn.LSTMCell(input_size= , hidden_size=self.hidden_dim)\n",
    "        \n",
    "        self.LSTM_5 = nn.LSTMCell(input_size= , hidden_size=self.hidden_dim)\n",
    "        self.LSTM_6 = nn.LSTMCell(input_size= , hidden_size=self.hidden_dim)\n",
    "        \n",
    "        self.LSTM_7 = nn.LSTMCell(input_size= , hidden_size=self.hidden_dim)\n",
    "        self.LSTM_8 = nn.LSTMCell(input_size= , hidden_size=self.hidden_dim)\n",
    "        \n",
    "        self.LSTM_9 = nn.LSTMCell(input_size= , hidden_size=self.hidden_dim)\n",
    "        \n",
    "        self.Lin1 =\n",
    "        self.Lin2 =\n",
    "        self.Lin3 = \n",
    "        self.Lin4 = \n",
    "        self.Lin5 = \n",
    "        \n",
    "        \n",
    "    def generate_episode(self):\n",
    "        \n",
    "        \n",
    "        \n",
    "        \n",
    "    \n",
    "        \n",
    "        \n",
    "        \n",
    "    def train(self):"
   ]
  },
  {
   "cell_type": "code",
   "execution_count": null,
   "id": "fbe1cc6b-e237-4782-a0ef-a9d70ed9d6a0",
   "metadata": {},
   "outputs": [],
   "source": []
  },
  {
   "cell_type": "code",
   "execution_count": null,
   "id": "13ba021c-8332-48e7-adcc-f4935b388359",
   "metadata": {},
   "outputs": [],
   "source": []
  },
  {
   "cell_type": "code",
   "execution_count": null,
   "id": "7a6ea696-c4b4-4dea-ae20-48ecc09b3eb8",
   "metadata": {},
   "outputs": [],
   "source": []
  },
  {
   "cell_type": "code",
   "execution_count": 46,
   "id": "05fbc199-28bc-42af-9ad3-8be40120558b",
   "metadata": {},
   "outputs": [
    {
     "ename": "TypeError",
     "evalue": "get_model_complexity_info() missing 1 required positional argument: 'input_res'",
     "output_type": "error",
     "traceback": [
      "\u001b[1;31m---------------------------------------------------------------------------\u001b[0m",
      "\u001b[1;31mTypeError\u001b[0m                                 Traceback (most recent call last)",
      "Input \u001b[1;32mIn [46]\u001b[0m, in \u001b[0;36m<cell line: 2>\u001b[1;34m()\u001b[0m\n\u001b[0;32m      1\u001b[0m ex \u001b[38;5;241m=\u001b[39m models\u001b[38;5;241m.\u001b[39mresnet50()\n\u001b[1;32m----> 2\u001b[0m macs, params \u001b[38;5;241m=\u001b[39m \u001b[43mget_model_complexity_info\u001b[49m\u001b[43m(\u001b[49m\u001b[43mex\u001b[49m\u001b[43m,\u001b[49m\u001b[43m \u001b[49m\u001b[43mas_strings\u001b[49m\u001b[38;5;241;43m=\u001b[39;49m\u001b[38;5;28;43;01mFalse\u001b[39;49;00m\u001b[43m)\u001b[49m\n",
      "\u001b[1;31mTypeError\u001b[0m: get_model_complexity_info() missing 1 required positional argument: 'input_res'"
     ]
    }
   ],
   "source": [
    "ex = models.resnet50()\n",
    "macs, params = get_model_complexity_info(ex, as_strings=False)"
   ]
  }
 ],
 "metadata": {
  "kernelspec": {
   "display_name": "Python 3 (ipykernel)",
   "language": "python",
   "name": "python3"
  },
  "language_info": {
   "codemirror_mode": {
    "name": "ipython",
    "version": 3
   },
   "file_extension": ".py",
   "mimetype": "text/x-python",
   "name": "python",
   "nbconvert_exporter": "python",
   "pygments_lexer": "ipython3",
   "version": "3.9.2"
  }
 },
 "nbformat": 4,
 "nbformat_minor": 5
}
